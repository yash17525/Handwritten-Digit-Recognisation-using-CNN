{
 "cells": [
  {
   "cell_type": "code",
   "execution_count": 1,
   "metadata": {},
   "outputs": [],
   "source": [
    "import mnist_loader"
   ]
  },
  {
   "cell_type": "code",
   "execution_count": 3,
   "metadata": {},
   "outputs": [],
   "source": [
    "training_data,validation_data,test_data = mnist_loader.load_data_wrapper()"
   ]
  },
  {
   "cell_type": "code",
   "execution_count": 4,
   "metadata": {},
   "outputs": [],
   "source": [
    "import network"
   ]
  },
  {
   "cell_type": "code",
   "execution_count": 5,
   "metadata": {},
   "outputs": [],
   "source": [
    "net = network.Network([784,100,10])"
   ]
  },
  {
   "cell_type": "code",
   "execution_count": null,
   "metadata": {
    "scrolled": true
   },
   "outputs": [
    {
     "name": "stdout",
     "output_type": "stream",
     "text": [
      "Epoch 0 : 7447 / 10000\n",
      "Epoch 1 : 8468 / 10000\n",
      "Epoch 2 : 8553 / 10000\n",
      "Epoch 3 : 8603 / 10000\n",
      "Epoch 4 : 8606 / 10000\n",
      "Epoch 5 : 8650 / 10000\n",
      "Epoch 6 : 8668 / 10000\n",
      "Epoch 7 : 8679 / 10000\n",
      "Epoch 8 : 8706 / 10000\n",
      "Epoch 9 : 8708 / 10000\n",
      "Epoch 10 : 8704 / 10000\n",
      "Epoch 11 : 8713 / 10000\n",
      "Epoch 12 : 8717 / 10000\n",
      "Epoch 13 : 8714 / 10000\n",
      "Epoch 14 : 8703 / 10000\n",
      "Epoch 15 : 8750 / 10000\n",
      "Epoch 16 : 8713 / 10000\n",
      "Epoch 17 : 8718 / 10000\n",
      "Epoch 18 : 8724 / 10000\n",
      "Epoch 19 : 8737 / 10000\n",
      "Epoch 20 : 8723 / 10000\n",
      "Epoch 21 : 8749 / 10000\n"
     ]
    }
   ],
   "source": [
    "net.SGD(training_data, 30, 10, 3.0, test_data=test_data)"
   ]
  },
  {
   "cell_type": "markdown",
   "metadata": {},
   "source": [
    "* Try creating a network with just two layers - an input and an output layer, no hidden layer - with 784 and 10 neurons, respectively. Train the network using stochastic gradient descent. What classification accuracy can you achieve?\n"
   ]
  },
  {
   "cell_type": "code",
   "execution_count": 12,
   "metadata": {},
   "outputs": [],
   "source": [
    "training_data,validation_data,test_data = mnist_loader.load_data_wrapper()"
   ]
  },
  {
   "cell_type": "code",
   "execution_count": 13,
   "metadata": {},
   "outputs": [],
   "source": [
    "net2 = network.Network([784,10])"
   ]
  },
  {
   "cell_type": "code",
   "execution_count": 14,
   "metadata": {},
   "outputs": [
    {
     "name": "stdout",
     "output_type": "stream",
     "text": [
      "Epoch 0 : 9625 / 10000\n",
      "Epoch 1 : 9625 / 10000\n",
      "Epoch 2 : 9625 / 10000\n",
      "Epoch 3 : 9625 / 10000\n",
      "Epoch 4 : 9625 / 10000\n",
      "Epoch 5 : 9625 / 10000\n",
      "Epoch 6 : 9625 / 10000\n",
      "Epoch 7 : 9625 / 10000\n",
      "Epoch 8 : 9625 / 10000\n",
      "Epoch 9 : 9625 / 10000\n",
      "Epoch 10 : 9625 / 10000\n",
      "Epoch 11 : 9625 / 10000\n",
      "Epoch 12 : 9625 / 10000\n",
      "Epoch 13 : 9625 / 10000\n",
      "Epoch 14 : 9625 / 10000\n",
      "Epoch 15 : 9625 / 10000\n",
      "Epoch 16 : 9625 / 10000\n",
      "Epoch 17 : 9625 / 10000\n",
      "Epoch 18 : 9625 / 10000\n",
      "Epoch 19 : 9625 / 10000\n",
      "Epoch 20 : 9625 / 10000\n",
      "Epoch 21 : 9625 / 10000\n",
      "Epoch 22 : 9625 / 10000\n",
      "Epoch 23 : 9625 / 10000\n",
      "Epoch 24 : 9625 / 10000\n",
      "Epoch 25 : 9625 / 10000\n",
      "Epoch 26 : 9625 / 10000\n",
      "Epoch 27 : 9625 / 10000\n",
      "Epoch 28 : 9625 / 10000\n",
      "Epoch 29 : 9625 / 10000\n"
     ]
    }
   ],
   "source": [
    "net.SGD(training_data, 30, 10, 3.0, test_data=test_data)"
   ]
  }
 ],
 "metadata": {
  "hide_input": false,
  "kernelspec": {
   "display_name": "Python 3",
   "language": "python",
   "name": "python3"
  },
  "language_info": {
   "codemirror_mode": {
    "name": "ipython",
    "version": 3
   },
   "file_extension": ".py",
   "mimetype": "text/x-python",
   "name": "python",
   "nbconvert_exporter": "python",
   "pygments_lexer": "ipython3",
   "version": "3.6.8"
  },
  "toc": {
   "base_numbering": 1,
   "nav_menu": {},
   "number_sections": true,
   "sideBar": true,
   "skip_h1_title": false,
   "title_cell": "Table of Contents",
   "title_sidebar": "Contents",
   "toc_cell": false,
   "toc_position": {},
   "toc_section_display": true,
   "toc_window_display": false
  },
  "varInspector": {
   "cols": {
    "lenName": 16,
    "lenType": 16,
    "lenVar": 40
   },
   "kernels_config": {
    "python": {
     "delete_cmd_postfix": "",
     "delete_cmd_prefix": "del ",
     "library": "var_list.py",
     "varRefreshCmd": "print(var_dic_list())"
    },
    "r": {
     "delete_cmd_postfix": ") ",
     "delete_cmd_prefix": "rm(",
     "library": "var_list.r",
     "varRefreshCmd": "cat(var_dic_list()) "
    }
   },
   "types_to_exclude": [
    "module",
    "function",
    "builtin_function_or_method",
    "instance",
    "_Feature"
   ],
   "window_display": false
  }
 },
 "nbformat": 4,
 "nbformat_minor": 2
}
